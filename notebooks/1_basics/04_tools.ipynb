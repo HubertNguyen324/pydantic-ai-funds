{
 "cells": [
  {
   "cell_type": "markdown",
   "id": "990286dc",
   "metadata": {},
   "source": [
    "# Environment Setup"
   ]
  },
  {
   "cell_type": "code",
   "execution_count": 4,
   "id": "57782174",
   "metadata": {},
   "outputs": [
    {
     "data": {
      "text/plain": [
       "True"
      ]
     },
     "execution_count": 4,
     "metadata": {},
     "output_type": "execute_result"
    }
   ],
   "source": [
    "import nest_asyncio\n",
    "import time\n",
    "import random\n",
    "\n",
    "from pydantic_ai import Agent, RunContext\n",
    "from dotenv import find_dotenv, load_dotenv\n",
    "from pprint import pprint\n",
    "\n",
    "nest_asyncio.apply()\n",
    "load_dotenv(find_dotenv())\n"
   ]
  },
  {
   "cell_type": "markdown",
   "id": "abc99f00",
   "metadata": {},
   "source": [
    "# Function Tools"
   ]
  },
  {
   "cell_type": "markdown",
   "id": "6859a97f",
   "metadata": {},
   "source": [
    "There are a number of ways to register tools with an agent:\n",
    "- `@agent.tool` decorator — for tools that need access to the agent context\n",
    "- `@agent.tool_plain` decorator — for tools that do not need access to the agent context\n",
    "- tools keyword argument to Agent which can take either plain functions, or instances of Tool"
   ]
  },
  {
   "cell_type": "code",
   "execution_count": null,
   "id": "6adab1b9",
   "metadata": {},
   "outputs": [],
   "source": [
    "\n",
    "\n",
    "agent = Agent(\n",
    "    \"google-gla:gemini-1.5-flash\",\n",
    "    deps_type=str,\n",
    "    system_prompt=(\n",
    "        \"You're a dice game, you should roll the die and see if the number \"\n",
    "        \"you get back matches the user's guess. If so, tell them they're a winner. \"\n",
    "        \"Use the player's name in the response and tell the winner number in case the player lose.\"\n",
    "    ),\n",
    ")\n"
   ]
  },
  {
   "cell_type": "code",
   "execution_count": 18,
   "id": "7746d06b",
   "metadata": {},
   "outputs": [],
   "source": [
    "@agent.tool_plain\n",
    "def roll_die() -> str:\n",
    "    \"\"\"Roll a six-sided die and return the result.\"\"\"\n",
    "    return str(random.randint(1, 6))\n",
    "\n",
    "\n",
    "@agent.tool\n",
    "def get_player_name(ctx: RunContext[str]) -> str:\n",
    "    \"\"\"Get the player's name.\"\"\"\n",
    "    return ctx.deps\n"
   ]
  },
  {
   "cell_type": "code",
   "execution_count": 19,
   "id": "f29c1d68",
   "metadata": {},
   "outputs": [
    {
     "name": "stdout",
     "output_type": "stream",
     "text": [
      "Anne, you lose! The number was 3.\n",
      "\n",
      "Anne, you're a winner!\n",
      "\n",
      "Anne, you lose! The number was 1.\n",
      "\n",
      "Anne, you lose! The number was 1.\n",
      "\n",
      "Anne, I'm sorry, but you didn't win. The number was 1.\n",
      "\n",
      "Anne, I'm sorry, but you didn't win. The number was 5.\n",
      "\n",
      "Anne, I'm sorry, but you didn't win. The number was 5.\n",
      "\n",
      "Anne, I'm sorry, but you did not win. The number was 1.\n",
      "\n",
      "Anne, unfortunately you did not win. The number was 5.\n",
      "\n",
      "Anne, you lose! The number was 1.\n",
      "\n"
     ]
    }
   ],
   "source": [
    "for i in range(10):\n",
    "    while True:\n",
    "        try:\n",
    "            dice_result = agent.run_sync(\"My guess is 4\", deps=\"Anne\")\n",
    "            print(dice_result.output)\n",
    "            break\n",
    "        except Exception:\n",
    "            pass\n",
    "    "
   ]
  },
  {
   "cell_type": "code",
   "execution_count": 20,
   "id": "a3cba0c8",
   "metadata": {},
   "outputs": [
    {
     "name": "stdout",
     "output_type": "stream",
     "text": [
      "[ModelRequest(parts=[SystemPromptPart(content=\"You're a dice game, you should \"\n",
      "                                              'roll the die and see if the '\n",
      "                                              'number you get back matches the '\n",
      "                                              \"user's guess. If so, tell them \"\n",
      "                                              \"they're a winner. Use the \"\n",
      "                                              \"player's name in the response \"\n",
      "                                              'and tell the winner number in '\n",
      "                                              'case the player lose.',\n",
      "                                      timestamp=datetime.datetime(2025, 4, 26, 16, 54, 59, 902581, tzinfo=datetime.timezone.utc),\n",
      "                                      dynamic_ref=None,\n",
      "                                      part_kind='system-prompt'),\n",
      "                     UserPromptPart(content='My guess is 4',\n",
      "                                    timestamp=datetime.datetime(2025, 4, 26, 16, 54, 59, 902581, tzinfo=datetime.timezone.utc),\n",
      "                                    part_kind='user-prompt')],\n",
      "              instructions=None,\n",
      "              kind='request'),\n",
      " ModelResponse(parts=[ToolCallPart(tool_name='get_player_name',\n",
      "                                   args={},\n",
      "                                   tool_call_id='pyd_ai_25ade4086ee3405aaf4e41d6192338e9',\n",
      "                                   part_kind='tool-call')],\n",
      "               model_name='gemini-1.5-flash',\n",
      "               timestamp=datetime.datetime(2025, 4, 26, 16, 55, 0, 470817, tzinfo=datetime.timezone.utc),\n",
      "               kind='response'),\n",
      " ModelRequest(parts=[ToolReturnPart(tool_name='get_player_name',\n",
      "                                    content='Anne',\n",
      "                                    tool_call_id='pyd_ai_25ade4086ee3405aaf4e41d6192338e9',\n",
      "                                    timestamp=datetime.datetime(2025, 4, 26, 16, 55, 0, 471786, tzinfo=datetime.timezone.utc),\n",
      "                                    part_kind='tool-return')],\n",
      "              instructions=None,\n",
      "              kind='request'),\n",
      " ModelResponse(parts=[ToolCallPart(tool_name='roll_die',\n",
      "                                   args={},\n",
      "                                   tool_call_id='pyd_ai_b575209d9f6244e5a4f94a08cc8d9b33',\n",
      "                                   part_kind='tool-call')],\n",
      "               model_name='gemini-1.5-flash',\n",
      "               timestamp=datetime.datetime(2025, 4, 26, 16, 55, 1, 20817, tzinfo=datetime.timezone.utc),\n",
      "               kind='response'),\n",
      " ModelRequest(parts=[ToolReturnPart(tool_name='roll_die',\n",
      "                                    content='1',\n",
      "                                    tool_call_id='pyd_ai_b575209d9f6244e5a4f94a08cc8d9b33',\n",
      "                                    timestamp=datetime.datetime(2025, 4, 26, 16, 55, 1, 21816, tzinfo=datetime.timezone.utc),\n",
      "                                    part_kind='tool-return')],\n",
      "              instructions=None,\n",
      "              kind='request'),\n",
      " ModelResponse(parts=[TextPart(content='Anne, you lose! The number was 1.\\n',\n",
      "                               part_kind='text')],\n",
      "               model_name='gemini-1.5-flash',\n",
      "               timestamp=datetime.datetime(2025, 4, 26, 16, 55, 1, 573902, tzinfo=datetime.timezone.utc),\n",
      "               kind='response')]\n"
     ]
    }
   ],
   "source": [
    "pprint(dice_result.all_messages())"
   ]
  },
  {
   "cell_type": "markdown",
   "id": "0f223f3f",
   "metadata": {},
   "source": [
    "# Registering Function Tools via kwarg"
   ]
  },
  {
   "cell_type": "markdown",
   "id": "184a5416",
   "metadata": {},
   "source": [
    "As well as using the decorators, we can register tools via the tools argument to the Agent constructor. This is useful when you want to reuse tools, and can also give more fine-grained control over the tools."
   ]
  },
  {
   "cell_type": "code",
   "execution_count": 11,
   "id": "894c38a7",
   "metadata": {},
   "outputs": [],
   "source": [
    "system_prompt = \"\"\"\\\n",
    "You're a dice game, you should roll the die and see if the number\n",
    "you get back matches the user's guess. If so, tell them they're a winner.\n",
    "Use the player's name in the response and tell the winner number in case the player lose.\n",
    "\"\"\"\n"
   ]
  },
  {
   "cell_type": "code",
   "execution_count": 12,
   "id": "85d92969",
   "metadata": {},
   "outputs": [],
   "source": [
    "def roll_a_dice() -> str:\n",
    "    \"\"\"Roll a six-sided die and return the result.\"\"\"\n",
    "    return str(random.randint(1, 6))\n",
    "\n",
    "\n",
    "def read_player_name(ctx: RunContext[str]) -> str:\n",
    "    \"\"\"Get the player's name.\"\"\"\n",
    "    return ctx.deps\n"
   ]
  },
  {
   "cell_type": "markdown",
   "id": "1146066e",
   "metadata": {},
   "source": [
    "The simplest way to register tools via the Agent constructor is to pass a list of functions, the function signature is inspected to determine if the tool takes RunContext."
   ]
  },
  {
   "cell_type": "code",
   "execution_count": 13,
   "id": "140f0663",
   "metadata": {},
   "outputs": [],
   "source": [
    "agent_a = Agent(\n",
    "    \"google-gla:gemini-1.5-flash\",\n",
    "    deps_type=str,\n",
    "    tools=[roll_a_dice, read_player_name],\n",
    "    system_prompt=system_prompt,\n",
    ")\n"
   ]
  },
  {
   "cell_type": "markdown",
   "id": "003b9cc2",
   "metadata": {},
   "source": [
    "`agent_a` and `agent_b` are identical — but we can use Tool to reuse tool definitions and give more fine-grained control over how tools are defined, e.g. setting their name or description, or using a custom prepare method."
   ]
  },
  {
   "cell_type": "code",
   "execution_count": 14,
   "id": "ded2e35b",
   "metadata": {},
   "outputs": [],
   "source": [
    "from pydantic_ai.tools import Tool\n",
    "\n",
    "agent_b = Agent(\n",
    "    \"google-gla:gemini-1.5-flash\",\n",
    "    deps_type=str,\n",
    "    tools=[\n",
    "        Tool(roll_a_dice, takes_ctx=False),\n",
    "        Tool(read_player_name, takes_ctx=True),\n",
    "    ],\n",
    "    system_prompt=system_prompt,\n",
    ")\n"
   ]
  },
  {
   "cell_type": "code",
   "execution_count": 15,
   "id": "3ec6246a",
   "metadata": {},
   "outputs": [
    {
     "name": "stdout",
     "output_type": "stream",
     "text": [
      "Hi Yashar, I rolled a 1.  Better luck next time!\n",
      "\n"
     ]
    },
    {
     "name": "stdout",
     "output_type": "stream",
     "text": [
      "Get me foobar.\n",
      "{'additionalProperties': False, 'properties': {'a': {'description': 'apple pie', 'type': 'integer'}, 'b': {'description': 'banana cake', 'type': 'string'}, 'c': {'additionalProperties': {'items': {'type': 'number'}, 'type': 'array'}, 'description': 'carrot smoothie', 'type': 'object'}}, 'required': ['a', 'b', 'c'], 'type': 'object'}\n",
      "Get me foobar.\n",
      "{'additionalProperties': False, 'properties': {'a': {'description': 'apple pie', 'type': 'integer'}, 'b': {'description': 'banana cake', 'type': 'string'}, 'c': {'additionalProperties': {'items': {'type': 'number'}, 'type': 'array'}, 'description': 'carrot smoothie', 'type': 'object'}}, 'required': ['a', 'b', 'c'], 'type': 'object'}\n",
      "Get me foobar.\n",
      "{'additionalProperties': False, 'properties': {'a': {'description': 'apple pie', 'type': 'integer'}, 'b': {'description': 'banana cake', 'type': 'string'}, 'c': {'additionalProperties': {'items': {'type': 'number'}, 'type': 'array'}, 'description': 'carrot smoothie', 'type': 'object'}}, 'required': ['a', 'b', 'c'], 'type': 'object'}\n",
      "Get me foobar.\n",
      "{'additionalProperties': False, 'properties': {'a': {'description': 'apple pie', 'type': 'integer'}, 'b': {'description': 'banana cake', 'type': 'string'}, 'c': {'additionalProperties': {'items': {'type': 'number'}, 'type': 'array'}, 'description': 'carrot smoothie', 'type': 'object'}}, 'required': ['a', 'b', 'c'], 'type': 'object'}\n",
      "Get me foobar.\n",
      "{'additionalProperties': False, 'properties': {'a': {'description': 'apple pie', 'type': 'integer'}, 'b': {'description': 'banana cake', 'type': 'string'}, 'c': {'additionalProperties': {'items': {'type': 'number'}, 'type': 'array'}, 'description': 'carrot smoothie', 'type': 'object'}}, 'required': ['a', 'b', 'c'], 'type': 'object'}\n"
     ]
    }
   ],
   "source": [
    "dice_result = {}\n",
    "dice_result[\"a\"] = agent_a.run_sync(\"My guess is 6\", deps=\"Yashar\")\n",
    "print(dice_result[\"a\"].output)\n"
   ]
  },
  {
   "cell_type": "code",
   "execution_count": 16,
   "id": "01ed279f",
   "metadata": {},
   "outputs": [
    {
     "name": "stdout",
     "output_type": "stream",
     "text": [
      "Anne, I'm sorry, but you did not win. The number was 3.\n",
      "\n"
     ]
    }
   ],
   "source": [
    "dice_result[\"b\"] = agent_b.run_sync(\"My guess is 4\", deps=\"Anne\")\n",
    "print(dice_result[\"b\"].output)"
   ]
  },
  {
   "cell_type": "markdown",
   "id": "d80f2150",
   "metadata": {},
   "source": [
    "# Function Tools vs. Structured Outputs"
   ]
  },
  {
   "cell_type": "markdown",
   "id": "e6bd8d91",
   "metadata": {},
   "source": [
    "- Function tools use the model's \"tools\" or \"functions\" API to let the model know what is available to call. \n",
    "- Tools or functions are also used to define the schema(s) for structured responses, thus a model might have access to many tools, some of which call function tools while others end the run and produce a final output."
   ]
  },
  {
   "cell_type": "markdown",
   "id": "12870d12",
   "metadata": {},
   "source": [
    "## Function Tools and Schema"
   ]
  },
  {
   "cell_type": "markdown",
   "id": "8149d5e1",
   "metadata": {},
   "source": [
    "- Function parameters are extracted from the function signature, and all parameters except `RunContext` are used to build the schema for that tool call.\n",
    "- PydanticAI extracts the docstring from functions using griffe and adds them to the schema. Griffe supports extracting parameter descriptions from google, numpy, and sphinx style docstrings."
   ]
  },
  {
   "cell_type": "code",
   "execution_count": 30,
   "id": "924f4aaa",
   "metadata": {},
   "outputs": [],
   "source": [
    "from pydantic_ai.messages import ModelMessage, ModelResponse, TextPart\n",
    "from pydantic_ai.models.function import AgentInfo, FunctionModel\n",
    "\n",
    "agent = Agent()"
   ]
  },
  {
   "cell_type": "code",
   "execution_count": 31,
   "id": "24d81aea",
   "metadata": {},
   "outputs": [],
   "source": [
    "@agent.tool_plain(docstring_format=\"google\", require_parameter_descriptions=True)\n",
    "def foobar(a: int, b: str, c: dict[str, list[float]]) -> str:\n",
    "    \"\"\"Get me foobar.\n",
    "\n",
    "    Args:\n",
    "        a: apple pie\n",
    "        b: banana cake\n",
    "        c: carrot smoothie\n",
    "    \"\"\"\n",
    "    return f\"{a} {b} {c}\"\n"
   ]
  },
  {
   "cell_type": "code",
   "execution_count": 32,
   "id": "11f58124",
   "metadata": {},
   "outputs": [
    {
     "data": {
      "text/plain": [
       "AgentRunResult(output='foobar')"
      ]
     },
     "execution_count": 32,
     "metadata": {},
     "output_type": "execute_result"
    }
   ],
   "source": [
    "def print_schema(messages: list[ModelMessage], info: AgentInfo) -> ModelResponse:\n",
    "    tool = info.function_tools[0]\n",
    "    print(tool.description)\n",
    "    print(tool.parameters_json_schema)\n",
    "\n",
    "    return ModelResponse(parts=[TextPart(\"foobar\")])\n",
    "\n",
    "\n",
    "agent.run_sync(\"hello\", model=FunctionModel(print_schema))\n"
   ]
  },
  {
   "cell_type": "code",
   "execution_count": 33,
   "id": "1795928d",
   "metadata": {},
   "outputs": [
    {
     "name": "stdout",
     "output_type": "stream",
     "text": [
      "{\"foobar\":\"x=0 y='a' z=3.14\"}\n"
     ]
    }
   ],
   "source": [
    "from pydantic import BaseModel\n",
    "from pydantic_ai.models.test import TestModel\n",
    "\n",
    "\n",
    "agent = Agent()\n",
    "\n",
    "\n",
    "class Foobar(BaseModel):\n",
    "    \"\"\"This is a Foobar\"\"\"\n",
    "\n",
    "    x: int\n",
    "    y: str\n",
    "    z: float = 3.14\n",
    "\n",
    "\n",
    "@agent.tool_plain\n",
    "def foobar(f: Foobar) -> str:\n",
    "    return str(f)\n",
    "\n",
    "\n",
    "test_model = TestModel()\n",
    "result = agent.run_sync(\"hello\", model=test_model)\n",
    "print(result.output)"
   ]
  },
  {
   "cell_type": "code",
   "execution_count": 35,
   "id": "32cd2ae4",
   "metadata": {},
   "outputs": [
    {
     "name": "stdout",
     "output_type": "stream",
     "text": [
      "[ ToolDefinition(name='foobar',\n",
      "                 description='This is a Foobar',\n",
      "                 parameters_json_schema={ 'properties': { 'x': { 'type': 'integer'},\n",
      "                                                          'y': { 'type': 'string'},\n",
      "                                                          'z': { 'default': 3.14,\n",
      "                                                                 'type': 'number'}},\n",
      "                                          'required': ['x', 'y'],\n",
      "                                          'title': 'Foobar',\n",
      "                                          'type': 'object'},\n",
      "                 outer_typed_dict_key=None,\n",
      "                 strict=None)]\n"
     ]
    }
   ],
   "source": [
    "pprint(test_model.last_model_request_parameters.function_tools, indent=2)"
   ]
  },
  {
   "cell_type": "markdown",
   "id": "9d459db9",
   "metadata": {},
   "source": [
    "## Dynamic Function Tools"
   ]
  },
  {
   "cell_type": "code",
   "execution_count": 36,
   "id": "18b4572a",
   "metadata": {},
   "outputs": [],
   "source": [
    "from typing import Union\n",
    "\n",
    "from pydantic_ai import Agent, RunContext\n",
    "from pydantic_ai.tools import ToolDefinition\n",
    "\n",
    "agent = Agent('test')\n",
    "\n",
    "\n",
    "async def only_if_42(\n",
    "    ctx: RunContext[int], tool_def: ToolDefinition\n",
    ") -> Union[ToolDefinition, None]:\n",
    "    if ctx.deps == 42:\n",
    "        return tool_def\n",
    "\n",
    "\n",
    "@agent.tool(prepare=only_if_42)\n",
    "def hitchhiker(ctx: RunContext[int], answer: str) -> str:\n",
    "    return f'{ctx.deps} {answer}'"
   ]
  },
  {
   "cell_type": "code",
   "execution_count": 37,
   "id": "1c6ad413",
   "metadata": {},
   "outputs": [
    {
     "name": "stdout",
     "output_type": "stream",
     "text": [
      "success (no tool calls)\n"
     ]
    }
   ],
   "source": [
    "result = agent.run_sync(\"testing...\", deps=41)\n",
    "print(result.output)"
   ]
  },
  {
   "cell_type": "code",
   "execution_count": 38,
   "id": "b0f5cda7",
   "metadata": {},
   "outputs": [
    {
     "name": "stdout",
     "output_type": "stream",
     "text": [
      "{\"hitchhiker\":\"42 a\"}\n"
     ]
    }
   ],
   "source": [
    "result = agent.run_sync(\"testing...\", deps=42)\n",
    "print(result.output)"
   ]
  },
  {
   "cell_type": "code",
   "execution_count": 40,
   "id": "80257457",
   "metadata": {},
   "outputs": [
    {
     "name": "stdout",
     "output_type": "stream",
     "text": [
      "{\"greet\":\"hello a\"}\n"
     ]
    }
   ],
   "source": [
    "from __future__ import annotations\n",
    "\n",
    "from typing import Literal\n",
    "\n",
    "from pydantic_ai import Agent, RunContext\n",
    "from pydantic_ai.models.test import TestModel\n",
    "from pydantic_ai.tools import Tool, ToolDefinition\n",
    "\n",
    "\n",
    "def greet(name: str) -> str:\n",
    "    return f\"hello {name}\"\n",
    "\n",
    "\n",
    "async def prepare_greet(\n",
    "    ctx: RunContext[Literal[\"human\", \"machine\"]], tool_def: ToolDefinition\n",
    ") -> ToolDefinition | None:\n",
    "    d = f\"Name of the {ctx.deps} to greet.\"\n",
    "    tool_def.parameters_json_schema[\"properties\"][\"name\"][\"description\"] = d\n",
    "    return tool_def\n",
    "\n",
    "\n",
    "greet_tool = Tool(greet, prepare=prepare_greet)\n",
    "test_model = TestModel()\n",
    "agent = Agent(test_model, tools=[greet_tool], deps_type=Literal[\"human\", \"machine\"])\n",
    "\n",
    "result = agent.run_sync(\"testing...\", deps=\"human\")\n",
    "print(result.output)\n",
    "\n"
   ]
  },
  {
   "cell_type": "code",
   "execution_count": 42,
   "id": "ec78b3ca",
   "metadata": {},
   "outputs": [
    {
     "name": "stdout",
     "output_type": "stream",
     "text": [
      "[ ToolDefinition(name='greet',\n",
      "                 description='',\n",
      "                 parameters_json_schema={ 'additionalProperties': False,\n",
      "                                          'properties': { 'name': { 'description': 'Name '\n",
      "                                                                                   'of '\n",
      "                                                                                   'the '\n",
      "                                                                                   'human '\n",
      "                                                                                   'to '\n",
      "                                                                                   'greet.',\n",
      "                                                                    'type': 'string'}},\n",
      "                                          'required': ['name'],\n",
      "                                          'type': 'object'},\n",
      "                 outer_typed_dict_key=None,\n",
      "                 strict=None)]\n"
     ]
    }
   ],
   "source": [
    "pprint(test_model.last_model_request_parameters.function_tools, indent=2)\n"
   ]
  }
 ],
 "metadata": {
  "kernelspec": {
   "display_name": ".venv",
   "language": "python",
   "name": "python3"
  },
  "language_info": {
   "codemirror_mode": {
    "name": "ipython",
    "version": 3
   },
   "file_extension": ".py",
   "mimetype": "text/x-python",
   "name": "python",
   "nbconvert_exporter": "python",
   "pygments_lexer": "ipython3",
   "version": "3.12.7"
  }
 },
 "nbformat": 4,
 "nbformat_minor": 5
}
