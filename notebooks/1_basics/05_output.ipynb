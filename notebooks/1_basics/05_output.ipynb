{
 "cells": [
  {
   "cell_type": "markdown",
   "id": "b8b55f1c",
   "metadata": {},
   "source": [
    "# Environment Setup"
   ]
  },
  {
   "cell_type": "code",
   "execution_count": 1,
   "id": "8f3a057f",
   "metadata": {},
   "outputs": [
    {
     "data": {
      "text/plain": [
       "True"
      ]
     },
     "execution_count": 1,
     "metadata": {},
     "output_type": "execute_result"
    }
   ],
   "source": [
    "import nest_asyncio\n",
    "from dotenv import find_dotenv, load_dotenv\n",
    "from pprint import pprint\n",
    "\n",
    "nest_asyncio.apply()\n",
    "load_dotenv(find_dotenv())\n"
   ]
  },
  {
   "cell_type": "markdown",
   "id": "6e9ff7c2",
   "metadata": {},
   "source": [
    "# Output"
   ]
  },
  {
   "cell_type": "markdown",
   "id": "466d3f3b",
   "metadata": {},
   "source": [
    "The `output` is wrapped in `AgentRunResult` or `StreamedRunResult` so you can access other data like `usage` of the run and `message_history`\n",
    "\n",
    "Both `AgentRunResult` and `StreamedRunResult` are generic in the data they wrap, so typing information about the data returned by the agent is preserved."
   ]
  },
  {
   "cell_type": "markdown",
   "id": "d1afe7bc",
   "metadata": {},
   "source": [
    "## Usage"
   ]
  },
  {
   "cell_type": "code",
   "execution_count": 2,
   "id": "b0a0ba4f",
   "metadata": {},
   "outputs": [
    {
     "name": "stdout",
     "output_type": "stream",
     "text": [
      "CityLocation(city='London', country='UK')\n"
     ]
    }
   ],
   "source": [
    "from pydantic import BaseModel\n",
    "\n",
    "from pydantic_ai import Agent\n",
    "\n",
    "\n",
    "class CityLocation(BaseModel):\n",
    "    city: str\n",
    "    country: str\n",
    "\n",
    "\n",
    "agent = Agent(\"google-gla:gemini-1.5-flash\", output_type=CityLocation)\n",
    "result = agent.run_sync(\"Where were the olympics held in 2012?\")\n",
    "pprint(result.output)"
   ]
  },
  {
   "cell_type": "code",
   "execution_count": 3,
   "id": "98225c2d",
   "metadata": {},
   "outputs": [
    {
     "name": "stdout",
     "output_type": "stream",
     "text": [
      "Usage(requests=1, request_tokens=27, response_tokens=7, total_tokens=34, details=None)\n"
     ]
    }
   ],
   "source": [
    "print(result.usage())"
   ]
  },
  {
   "cell_type": "markdown",
   "id": "1bc09eee",
   "metadata": {},
   "source": [
    "## Output Data"
   ]
  },
  {
   "cell_type": "markdown",
   "id": "786579ec",
   "metadata": {},
   "source": [
    "### Structured Outputs"
   ]
  },
  {
   "cell_type": "markdown",
   "id": "8be67add",
   "metadata": {},
   "source": [
    "Structured outputs (like tools) use Pydantic to build the JSON schema used for the tool, and to validate the data returned by the model."
   ]
  },
  {
   "cell_type": "code",
   "execution_count": 23,
   "id": "c69a803d",
   "metadata": {},
   "outputs": [],
   "source": [
    "from typing import Union\n",
    "\n",
    "from pydantic import BaseModel\n",
    "\n",
    "from pydantic_ai import Agent\n",
    "\n",
    "class Box(BaseModel):\n",
    "    width: int\n",
    "    height: int\n",
    "    depth: int\n",
    "    units: str\n",
    "\n",
    "agent: Agent[None, Union[Box, str]] = Agent(\n",
    "    \"google-gla:gemini-1.5-flash\",\n",
    "    output_type=Union[Box, str],  # type: ignore\n",
    "    system_prompt=(\n",
    "        \"Extract me the dimensions of a box, \"\n",
    "        \"if you can't extract all data, ask the user to try again.\"\n",
    "    ),\n",
    ")"
   ]
  },
  {
   "cell_type": "code",
   "execution_count": 26,
   "id": "9d409787",
   "metadata": {},
   "outputs": [
    {
     "name": "stdout",
     "output_type": "stream",
     "text": [
      "width=30 height=20 depth=10 units='x'\n"
     ]
    }
   ],
   "source": [
    "result = agent.run_sync(\"The box is 10x20x30\")\n",
    "print(result.output)"
   ]
  },
  {
   "cell_type": "code",
   "execution_count": 27,
   "id": "4300d962",
   "metadata": {},
   "outputs": [
    {
     "name": "stdout",
     "output_type": "stream",
     "text": [
      "width=10 height=20 depth=30 units='cm'\n"
     ]
    }
   ],
   "source": [
    "result = agent.run_sync(\"The box is 10x20x30 cm\")\n",
    "print(result.output)"
   ]
  },
  {
   "cell_type": "markdown",
   "id": "2a1f007c",
   "metadata": {},
   "source": [
    "### Using a Union Return Type"
   ]
  },
  {
   "cell_type": "markdown",
   "id": "91bf724e",
   "metadata": {},
   "source": [
    "Here's an example of using a union return type which registers multiple tools, and wraps non-object schemas in an object"
   ]
  },
  {
   "cell_type": "code",
   "execution_count": null,
   "id": "f247bdd6",
   "metadata": {},
   "outputs": [],
   "source": [
    "from typing import Union\n",
    "\n",
    "agent: Agent[None, Union[list[str], list[int]]] = Agent(\n",
    "    \"google-gla:gemini-1.5-flash-8b\",\n",
    "    output_type=Union[list[str], list[int]],  # type: ignore\n",
    "    system_prompt=\"Extract either colors or sizes from the shapes provided.\",\n",
    ")"
   ]
  },
  {
   "cell_type": "code",
   "execution_count": 6,
   "id": "f4f2bc52",
   "metadata": {},
   "outputs": [
    {
     "name": "stdout",
     "output_type": "stream",
     "text": [
      "['red', 'blue', 'green']\n"
     ]
    }
   ],
   "source": [
    "result = agent.run_sync(\"red square, blue circle, green triangle\")\n",
    "print(result.output)\n"
   ]
  },
  {
   "cell_type": "code",
   "execution_count": 7,
   "id": "6c40b815",
   "metadata": {},
   "outputs": [
    {
     "name": "stdout",
     "output_type": "stream",
     "text": [
      "[10, 20, 30]\n"
     ]
    }
   ],
   "source": [
    "result = agent.run_sync(\"square size 10, circle size 20, triangle size 30\")\n",
    "print(result.output)\n"
   ]
  },
  {
   "cell_type": "markdown",
   "id": "54b16c93",
   "metadata": {},
   "source": [
    "### Output Validator Functions"
   ]
  },
  {
   "cell_type": "markdown",
   "id": "e8c692c5",
   "metadata": {},
   "source": [
    "Some validation is inconvenient or impossible to do in Pydantic validators, in particular when the validation requires IO and is asynchronous. PydanticAI provides a way to add validation functions via the `agent.output_validator` decorator."
   ]
  },
  {
   "cell_type": "markdown",
   "id": "7857d1d7",
   "metadata": {},
   "source": [
    "## Streamed Results"
   ]
  },
  {
   "cell_type": "markdown",
   "id": "2e53c28c",
   "metadata": {},
   "source": [
    "**There two main challenges with streamed results:**\n",
    "\n",
    "1. Validating structured responses before they're complete, this is achieved by \"partial validation\" which was recently added to Pydantic.\n",
    "2. When receiving a response, we don't know if it's the final response without starting to stream it and peeking at the content. PydanticAI streams just enough of the response to sniff out if it's a tool call or an output, then streams the whole thing and calls tools, or returns the stream as a `StreamedRunResult`."
   ]
  },
  {
   "cell_type": "markdown",
   "id": "1a93ce2d",
   "metadata": {},
   "source": [
    "### Streaming Text"
   ]
  },
  {
   "cell_type": "code",
   "execution_count": 31,
   "id": "1fa32674",
   "metadata": {},
   "outputs": [],
   "source": [
    "agent = Agent(\"google-gla:gemini-1.5-flash\")\n",
    "\n",
    "\n",
    "async def stream_text():\n",
    "    async with agent.run_stream('Where does \"hello world\" come from?') as result:\n",
    "        async for message in result.stream_text():\n",
    "            print(message)\n"
   ]
  },
  {
   "cell_type": "code",
   "execution_count": 32,
   "id": "073ea3cb",
   "metadata": {},
   "outputs": [
    {
     "name": "stdout",
     "output_type": "stream",
     "text": [
      "The \"Hello, world!\" program originates from Brian Kernighan's 1\n",
      "The \"Hello, world!\" program originates from Brian Kernighan's 1972 book, \"A Tutorial Introduction to the Language B\".  While\n",
      "The \"Hello, world!\" program originates from Brian Kernighan's 1972 book, \"A Tutorial Introduction to the Language B\".  While not explicitly called \"Hello, world!\" in that version, it presented a similar program that printed \"hello, world\" to demonstrate a basic \"print\" function\n",
      "The \"Hello, world!\" program originates from Brian Kernighan's 1972 book, \"A Tutorial Introduction to the Language B\".  While not explicitly called \"Hello, world!\" in that version, it presented a similar program that printed \"hello, world\" to demonstrate a basic \"print\" function in the programming language B (a precursor to C).\n",
      "\n",
      "While Kernighan didn't coin the phrase itself, his example in the B tutorial is widely considered the genesis of the now-ubiquitous \"Hello, world!\" program.  It became a standard introductory programming exercise, carried over into the C language and subsequently adopted by countless other languages and tutorials.  Its simplicity and ease of implementation\n",
      "The \"Hello, world!\" program originates from Brian Kernighan's 1972 book, \"A Tutorial Introduction to the Language B\".  While not explicitly called \"Hello, world!\" in that version, it presented a similar program that printed \"hello, world\" to demonstrate a basic \"print\" function in the programming language B (a precursor to C).\n",
      "\n",
      "While Kernighan didn't coin the phrase itself, his example in the B tutorial is widely considered the genesis of the now-ubiquitous \"Hello, world!\" program.  It became a standard introductory programming exercise, carried over into the C language and subsequently adopted by countless other languages and tutorials.  Its simplicity and ease of implementation make it ideal for teaching fundamental programming concepts.\n",
      "\n"
     ]
    }
   ],
   "source": [
    "import asyncio\n",
    "asyncio.run(stream_text())"
   ]
  },
  {
   "cell_type": "markdown",
   "id": "2a2b2b57",
   "metadata": {},
   "source": [
    "**We can also stream text as deltas rather than the entire text in each item:**"
   ]
  },
  {
   "cell_type": "code",
   "execution_count": 33,
   "id": "91e919e8",
   "metadata": {},
   "outputs": [],
   "source": [
    "async def stream_delta():\n",
    "    async with agent.run_stream('Where does \"hello world\" come from?') as result:\n",
    "        async for message in result.stream_text(delta=True):\n",
    "            print(message)"
   ]
  },
  {
   "cell_type": "code",
   "execution_count": 34,
   "id": "1104bdac",
   "metadata": {},
   "outputs": [
    {
     "name": "stdout",
     "output_type": "stream",
     "text": [
      "The \"Hello, world!\" program originates from Brian Kernighan's 1\n",
      "972 document, \"A Tutorial Introduction to the Language B.\"  While\n",
      " not the very first example of a simple program printing text, it's the one that became incredibly popular and has since been widely adopted as the canonical introductory program\n",
      " in almost every programming language tutorial.  Its simplicity and immediate visual result make it ideal for demonstrating the basic syntax and functionality of a new language.  Before this, similar examples existed, but Kernighan's version cemented its place in programming history.\n",
      "\n"
     ]
    }
   ],
   "source": [
    "asyncio.run(stream_delta())"
   ]
  },
  {
   "cell_type": "markdown",
   "id": "3f1b1736",
   "metadata": {},
   "source": [
    ">Output message not included in **`messages`**:\\\n",
    ">The final output message will **NOT** be added to result messages if you use `.stream_text(delta=True),` see [Messages and chat history](https://ai.pydantic.dev/message-history/) for more information."
   ]
  },
  {
   "cell_type": "markdown",
   "id": "c6062664",
   "metadata": {},
   "source": [
    "### Streaming Structured Output"
   ]
  },
  {
   "cell_type": "markdown",
   "id": "37eba491",
   "metadata": {},
   "source": [
    "Not all types are supported with partial validation in Pydantic, see [pydantic/pydantic#10748](https://github.com/pydantic/pydantic/pull/10748), generally for model-like structures it's currently best to use `TypeDict`."
   ]
  },
  {
   "cell_type": "code",
   "execution_count": 46,
   "id": "70ffe9e7",
   "metadata": {},
   "outputs": [],
   "source": [
    "from datetime import date\n",
    "\n",
    "from typing_extensions import TypedDict\n",
    "\n",
    "from pydantic_ai import Agent\n",
    "\n",
    "\n",
    "class UserProfile(TypedDict, total=False):\n",
    "    name: str\n",
    "    dob: date\n",
    "    bio: str\n",
    "\n",
    "\n",
    "agent = Agent(\n",
    "    \"google-gla:gemini-2.5-flash-preview-04-17\",\n",
    "    output_type=UserProfile,\n",
    "    system_prompt=\"Extract a user profile from the input\",\n",
    ")\n",
    "\n",
    "\n",
    "async def stream_struct():\n",
    "    user_input = \"My name is Ben, I was born on January 28th 1990, I like the chain the dog and the pyramid.\"\n",
    "    async with agent.run_stream(user_input) as result:\n",
    "        async for profile in result.stream():\n",
    "            print(profile)\n"
   ]
  },
  {
   "cell_type": "code",
   "execution_count": 47,
   "id": "52e35b9d",
   "metadata": {},
   "outputs": [
    {
     "name": "stdout",
     "output_type": "stream",
     "text": [
      "{'name': 'Ben', 'dob': datetime.date(1990, 1, 28), 'bio': 'I like the chain the dog and the pyramid'}\n",
      "{'name': 'Ben', 'dob': datetime.date(1990, 1, 28), 'bio': 'I like the chain the dog and the pyramid'}\n"
     ]
    }
   ],
   "source": [
    "asyncio.run(stream_struct())"
   ]
  },
  {
   "cell_type": "markdown",
   "id": "e8b96c71",
   "metadata": {},
   "source": [
    "If you want fine-grained control of validation, particularly catching validation errors, you can use the following pattern:"
   ]
  },
  {
   "cell_type": "code",
   "execution_count": 51,
   "id": "b0f49193",
   "metadata": {},
   "outputs": [],
   "source": [
    "from datetime import date\n",
    "\n",
    "from pydantic import ValidationError\n",
    "from typing_extensions import TypedDict\n",
    "\n",
    "from pydantic_ai import Agent\n",
    "\n",
    "\n",
    "class UserProfile(TypedDict, total=False):\n",
    "    name: str\n",
    "    dob: date\n",
    "    bio: str\n",
    "\n",
    "\n",
    "agent = Agent(\"google-gla:gemini-2.0-pro-exp-02-05\", output_type=UserProfile)\n",
    "user_input = \"My name is Ben, I was born on January 28th 1990, I like the chain the dog and the pyramid.\""
   ]
  },
  {
   "cell_type": "code",
   "execution_count": 52,
   "id": "b5314678",
   "metadata": {},
   "outputs": [],
   "source": [
    "async def stream_with_validation():\n",
    "    \n",
    "    async with agent.run_stream(user_input) as result:\n",
    "        async for message, last in result.stream_structured(debounce_by=0.01):\n",
    "            try:\n",
    "                profile = await result.validate_structured_output(\n",
    "                    message,\n",
    "                    allow_partial=not last,\n",
    "                )\n",
    "            except ValidationError:\n",
    "                continue\n",
    "            print(profile)\n"
   ]
  },
  {
   "cell_type": "code",
   "execution_count": 53,
   "id": "f07112d8",
   "metadata": {},
   "outputs": [
    {
     "name": "stdout",
     "output_type": "stream",
     "text": [
      "{'name': 'Ben', 'dob': datetime.date(1990, 1, 28), 'bio': 'I like the chain the dog and the pyramid'}\n",
      "{'name': 'Ben', 'dob': datetime.date(1990, 1, 28), 'bio': 'I like the chain the dog and the pyramid'}\n"
     ]
    }
   ],
   "source": [
    "asyncio.run(stream_with_validation())"
   ]
  }
 ],
 "metadata": {
  "kernelspec": {
   "display_name": ".venv",
   "language": "python",
   "name": "python3"
  },
  "language_info": {
   "codemirror_mode": {
    "name": "ipython",
    "version": 3
   },
   "file_extension": ".py",
   "mimetype": "text/x-python",
   "name": "python",
   "nbconvert_exporter": "python",
   "pygments_lexer": "ipython3",
   "version": "3.13.0"
  }
 },
 "nbformat": 4,
 "nbformat_minor": 5
}
